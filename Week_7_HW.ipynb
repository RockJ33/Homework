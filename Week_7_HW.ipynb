{
 "cells": [
  {
   "cell_type": "markdown",
   "metadata": {},
   "source": [
    "# SECTION 07 HW \n",
    "<br>\n",
    "## Directions \n",
    "<br>\n",
    "1. You will need to open up the SavvyCoders_SQL_EVtables.db for the first part of the HW. \n",
    "<br>\n",
    "2. If you need to change databases you will be instructed to do so. \n",
    "<br>\n",
    "3. Please answer all of the questions in a markdown file. Here is the sample format: \n",
    "\n",
    "# Section 7.1 \n"
   ]
  },
  {
   "cell_type": "markdown",
   "metadata": {},
   "source": [
    "# 7.1 HW Questions \n",
    "\n",
    "\n",
    "1. Using EVregistry, Write a query to select the `ModelYear`, `Make`, and `Model` off all of the vehicles in the registry.\n",
    "2. Using the EVRegistry table, Write a query that lists all of the unique types of EV's. your reult set should have one column, `ElectricVehicleType`. \n",
    "3. Using the EVRegistry, Write a query that shows all of the information on Battery Electric Vehicles (BEV) that are in the registry. \n",
    "4. Using the EVRegistry, wirte a query that returns the `Make` and `Model` of all of the EV's that have a BaseMSRP between 20000 and 35000? "
   ]
  },
  {
   "cell_type": "markdown",
   "metadata": {},
   "source": [
    "## Question 1 Answers"
   ]
  },
  {
   "cell_type": "markdown",
   "metadata": {},
   "source": [
    "1. SELECT \"Model Year\", Make, Model<br>\n",
    "   FROM EVRegistry\n",
    "\n",
    "2. SELECT DISTINCT \"Electric Vehicle Type\"<br>\n",
    "   FROM EVRegistry\n",
    "\n",
    "3. SELECT * <br>\n",
    "   FROM EVRegistry <br>\n",
    "   WHERE ElectricVehicleType = \"Battery Electric Vehicle (BEV)\"\n",
    "\n",
    "   or\n",
    "\n",
    "   SELECT <br>\n",
    "   \"VIN\", <br>\n",
    "   \"County\", <br>\n",
    "   \"City\", <br>\n",
    "   \"State\", <br>\n",
    "   \"Postal Code\",<br> \n",
    "   \"Model Year\",<br>\n",
    "   \"Make\", <br>\n",
    "   \"Model\", <br>\n",
    "   \"Electric Vehicle Type\",<br> \n",
    "   \"Electric Range\", <br>\n",
    "   \"Base MSRP\", <br>\n",
    "   \"StateID\" <br>\n",
    "<br>\n",
    "   FROM EVRegistry\n",
    "<br>\n",
    "   WHERE ElectricVehicleType = \"Battery Electric Vehicle (BEV)\"\n",
    "\n",
    "4. SELECT DISTINCT Make, Model<br>\n",
    "   FROM EVRegistry<br>\n",
    "   WHERE \"Base MSRP\" BETWEEN 20000 AND 35000<br>"
   ]
  },
  {
   "cell_type": "markdown",
   "metadata": {},
   "source": [
    "# 7.2 HW Questions \n",
    "\n",
    "1. Using EVRegistry, write a query to find a record  where the `City` attribute is NULL. Return all of the available columns. \n",
    "2. Write a query to find the `make`, `model`, and `ElectricVehicleType` where the VIN number has  that ends in '3E1EA1J'.\n",
    "3. Select the `ModelYear`, `make`, `model`, `ElectricVehicleType`, and `range` of the Tesla vehicles or cheverolet vehicles in the registry. Order the result set by Make and Model year in from newest to oldest. \n",
    "4. Using EVCharging, Write a query to find out how many many times those stations were used. Order them by the most used to the least used and limit the output to 5 records. \n",
    "5.  Using EVCharging, For the folks who charged longer than 0.5 hours, show the min and max of the charging time for each user. Your output columns should be `userid`, `minTime`, and `maxTime`. Order this result set by the last two columns respectively. "
   ]
  },
  {
   "cell_type": "markdown",
   "metadata": {},
   "source": [
    "## Question 2 Answers"
   ]
  },
  {
   "cell_type": "markdown",
   "metadata": {},
   "source": [
    "1. SELECT * <br>\n",
    "   FROM EVRegistry <br>\n",
    "   WHERE City IS NULL\n",
    "\n",
    "2. SELECT Make, Model, ElectricVehicleType <br>\n",
    "   FROM EVRegistry <br>\n",
    "   WHERE VIN LIKE \"%3E1EA1J\"\n",
    "\n",
    "3. SELECT ModelYear, Make, Model, ElectricVehicleType, ElectricRange<br>\n",
    "FROM EVRegistry<br>\n",
    "WHERE Make = \"TESLA\" OR Make = \"CHEVROLET\"<br>\n",
    "ORDER BY Make, ModelYear DESC\n",
    "\n",
    "4. SELECT stationID, Count(*) as stationIDtotal<br>\n",
    "   FROM EVCharging<br>\n",
    "   GROUP BY stationID<br>\n",
    "   ORDER BY COUNT(*) DESC<br>\n",
    "   LIMIT 5\n",
    "\n",
    "5. SELECT userID, MIN(chargeTimeHrs) as 'minTime',<br>\n",
    "   MAX(chargeTimeHrs) as 'maxTime'<br>\n",
    "   FROM EVCharging<br>\n",
    "   WHERE chargeTimeHrs > 0.5<br>\n",
    "   GROUP BY userId<br>\n",
    "   ORDER BY 2, 3"
   ]
  },
  {
   "cell_type": "markdown",
   "metadata": {},
   "source": [
    "### _Before moving on with the rest of the questions please set up the new database_\n",
    "1. in SQLlite close any open DB\n",
    "2. file----> Open Database\n",
    "3. Choose SavvyCoders_SQL_chargeDB.db from the resource repository from this section in the curriculum\n",
    "4. Make sure that you have 5 tables: \n",
    "    - dimDay \n",
    "    - dimFacility\n",
    "    - dimUser\n",
    "    - factCharge\n",
    "    - EVCharging"
   ]
  },
  {
   "cell_type": "markdown",
   "metadata": {},
   "source": [
    "# 7.3 HW Questions"
   ]
  },
  {
   "cell_type": "markdown",
   "metadata": {},
   "source": [
    "1. Using EVCharging, Which day of the week has the highest average charging time? Round the answer to 2 decimal points.\n",
    "2. Using, EV charging, Find the total power consumed from charging EV's by each User. Return the `userId` and name the calculated column, `totalPower`. Round the answer to 2 deciaml points and list the out put in highest to lowest order. Limit the order to the top 15 users. \n",
    "3. Using dimfacility and factCharge, write a query to find out which type of facility (GROUP BY) has the most amount of charging stations. Return `type Facility` and name the calculated column `numStation`. Order the result set from highest to lowest number of charging stations.  \n",
    "4. In your own words, Briefly explain Primary Keys and Foreign Keys. \n",
    "5. Using EV Charging, For the folks who charged longer than one hour, show the min and max of the charging time for each user. Your output columns should be `userid`, `minTime`, and `maxTime`. Order this result set by the last two columns respectively. HINT: USE `HAVING`"
   ]
  },
  {
   "cell_type": "markdown",
   "metadata": {},
   "source": [
    "## Question 3 Answers"
   ]
  },
  {
   "cell_type": "markdown",
   "metadata": {},
   "source": [
    "1. SELECT ROUND(AVG(chargeTimeHrs),2) AS AvgChargeTime, weekday<br>\n",
    "   FROM EVCharging<br>\n",
    "   GROUP BY weekday<br>\n",
    "   ORDER BY AvgChargeTime DESC<br>\n",
    "   \n",
    "   Answer = Wed, with a (2.94) AvgChargeTime"
   ]
  },
  {
   "cell_type": "markdown",
   "metadata": {},
   "source": [
    "2. SELECT SUM(kwhTotal) AS totalPower, userId<br>\n",
    "   FROM EVCharging<br>\n",
    "   GROUP BY userId<br>\n",
    "   ORDER BY totalPower DESC<br>\n",
    "   LIMIT 15<br>"
   ]
  },
  {
   "cell_type": "markdown",
   "metadata": {},
   "source": [
    "3. SELECT COUNT(DISTINCT stationId) AS \"numStation\", typeFacility <br>\n",
    "   FROM factCharge <br>\n",
    "   INNER JOIN dimFacility ON factCharge.facilityID = dimFacility.FacilityKey <br>\n",
    "   GROUP BY typeFacility <br>\n",
    "   ORDER BY numStation DESC <br>"
   ]
  },
  {
   "cell_type": "markdown",
   "metadata": {},
   "source": [
    "4. A primary key is a unique identifier for each record in a table. This can be thought of as a column name in excel that does not allow duplicates. The foreign key uses the unique identifiers from the primary key in another table and can reference those values. This allows you to link different tables and more easily compare data."
   ]
  },
  {
   "cell_type": "markdown",
   "metadata": {},
   "source": [
    "5. SELECT userId, MIN(chargeTimeHrs) as minTime, MAX(chargeTimeHrs) AS maxTime <br>\n",
    "   FROM EVCharging <br>\n",
    "   GROUP BY userId <br>\n",
    "   HAVING MIN(chargeTimeHrs) > 1 <br>\n",
    "   ORDER BY 2, 3 <br>\n"
   ]
  }
 ],
 "metadata": {
  "kernelspec": {
   "display_name": "Python 3",
   "language": "python",
   "name": "python3"
  },
  "language_info": {
   "codemirror_mode": {
    "name": "ipython",
    "version": 3
   },
   "file_extension": ".py",
   "mimetype": "text/x-python",
   "name": "python",
   "nbconvert_exporter": "python",
   "pygments_lexer": "ipython3",
   "version": "3.12.6"
  }
 },
 "nbformat": 4,
 "nbformat_minor": 2
}
