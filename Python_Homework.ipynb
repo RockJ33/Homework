{
 "cells": [
  {
   "cell_type": "markdown",
   "metadata": {},
   "source": []
  },
  {
   "cell_type": "markdown",
   "metadata": {},
   "source": [
    "# Python Homework (Flow Control, Modules, Functions, Exceptions, NumPy) \n",
    "\n",
    "**1. What does one need to do to use a module?** \n",
    " _You must ensure it is a file with a .py extension and import the module using the \"import\" statement._\n",
    "\n",
    "**2. Name a Module (not the DateTime Nodule) we looked at and write a line or 2 of code as an example using this module.**\n",
    "_Another module you used was the Python Random Module. We could use this to randomly generate numbers or output random list items_\n",
    "\n",
    "import.random\n",
    "number = randrange(1,101)\n",
    "print(number)\n",
    "\n",
    "**3. What is a benefit of using Exception handling?** \n",
    "_Error handling will stop and generate an error message when something goes wrong. This could help with troubleshooting/debugging more efficiently, especially in large python code files._\n",
    "\n",
    "**4. what are the 4 components used for Python Exception Handling?**\n",
    "    1. Try\n",
    "    2. Except\n",
    "    3. Else\n",
    "    4. Finally\n",
    "\n",
    "**5. NumPy arrays are like what Python data type?**\n",
    "_NumPy arrays are similiar to lists except they only hold one specific data type._\n",
    "\n",
    "**6. What is one of the main benefits of using NumPy arrays.**\n",
    "_The can calculate the position of each element occupying less memory, making processing speeds much faster._\n",
    "\n",
    "**7. What is one of the main requirements about the 'dtype' of NumPy arrays?**\n",
    "_They must be of the same data type._\n",
    "\n",
    "**8. Of the 10 uses of NumPy, name 2.**\n",
    "_Create Multi-Dimensional Arrays, Broadcasting._\n",
    "\n",
    "**9. Name one of the other libraries we'll use with NumPy?**\n",
    "_Pandas_\n",
    "\n",
    "**10. What is the shape of NumPy arrays?**\n",
    "_It specifies the array shape by dimension, length (rows), and size (columns)._\n",
    "\n",
    "**11. What is a Tensor?**\n",
    "_A tensor is an array with 3+ dimensions._\n",
    "\n",
    "**12. Name a reason why it's better using  NumPy for Data Analysis than using a Python List?**\n",
    "_NumPy can integrate with a wide variety of databases._\n",
    "\n",
    "**13. When creating an \"empty\" array, where do the elements come from?**\n",
    "_The elements contents are random depending on the state of memory._"
   ]
  },
  {
   "cell_type": "markdown",
   "metadata": {},
   "source": [
    "\n",
    "\n",
    "\n",
    "# Flow Control Methods:"
   ]
  },
  {
   "cell_type": "code",
   "execution_count": null,
   "metadata": {},
   "outputs": [],
   "source": [
    "#1.)\n",
    "#  Create an if statement: if 'age' is greater than or equal to 25, print \"Renting a car is more affordable\", \n",
    "# however if 'age' is less than 25, print \"Renting a car is very expensive.\"\n",
    "\n",
    "age = int(input(\"What is your age?\"))\n",
    "\n",
    "print(\"Renting a car is very affordable!\") if age >= 25  else print(\"Renting a car is very expensive!\")\n",
    "    \n",
    "\n"
   ]
  },
  {
   "cell_type": "code",
   "execution_count": null,
   "metadata": {},
   "outputs": [],
   "source": [
    "#2.)\n",
    "# Create and chain an if-else statement: if 'age' is greater than or equal to 25, print \"Renting a car is more affordable.\n",
    "# \" If 'age' is less than 25 but greater than or equal to 18, print \"Renting a car is very expensive.\n",
    "# \" Finally, if age is less than 18, print \"You cannot legally rent a car.\"\n",
    "\n",
    "age = int(input(\"What is your age?\"))\n",
    "\n",
    "if age >= 25:\n",
    "    print(\"Renting a car is more affordable!\")\n",
    "elif age < 25 and age >= 18:\n",
    "    print(\"Renting a car is very expensive!\")\n",
    "else:\n",
    "    print(\"You cannot legally rent a car!\")"
   ]
  },
  {
   "cell_type": "code",
   "execution_count": null,
   "metadata": {},
   "outputs": [],
   "source": [
    "# 3.) \n",
    "# Loop over the following string to (1) count all the characters in the string and \n",
    "# (2) print out all the vowels -- \"The quick brown fox jumps over the lazy dog\"\n",
    "\n",
    "string = \"The quick brown fox jumps over the lazy dog\"\n",
    "\n",
    "for letters in string: \n",
    "    print(letters)\n",
    "\n",
    "for letters in string:\n",
    "    if letters in \"aieou\":\n",
    "        print(letters)\n",
    "\n"
   ]
  },
  {
   "cell_type": "code",
   "execution_count": null,
   "metadata": {},
   "outputs": [],
   "source": [
    "# 4.)\n",
    "# Write a nested loop that prints out every piece of clothing from the couture list, in every fashionable color from the panettone set:\n",
    "#  couture = [\"trousers\", \"blouse\", \"bandana\", \"cumber band\", \"blazer\", \"vest\", \"french beret\", \"scarf\", \"stole\"] \n",
    "# and panettone = {\"cerise\", \"fuchsia\", \"aqua\", \"maple\", \"auburn\", \"burnt sienna\", \"gunmetal blue\", \"Dark Sapphire\"}\n",
    "\n",
    "couture = [\"trousers\", \"blouse\", \"bandana\", \"cumber band\", \"blazer\", \"vest\", \"french beret\", \"scarf\", \"stole\"]\n",
    "panettone = {\"cerise\", \"fuchsia\", \"aqua\", \"maple\", \"auburn\", \"burnt sienna\", \"gunmetal blue\", \"Dark Sapphire\"}\n",
    "\n",
    "for clothing in couture:\n",
    "    for color in panettone:\n",
    "        print(clothing, color)\n"
   ]
  },
  {
   "cell_type": "code",
   "execution_count": null,
   "metadata": {},
   "outputs": [],
   "source": [
    "# 5.)\n",
    "# Use range as a loop to calculate the sum of all the numbers from 1 to 100\n",
    "\n",
    "for numbers in range(1,101):\n",
    "    print(numbers)\n"
   ]
  },
  {
   "cell_type": "code",
   "execution_count": null,
   "metadata": {},
   "outputs": [],
   "source": [
    "# 6.)\n",
    "# Print the second item in this fruits list. [\"apple\", \"banana\", \"cherry\"]\n",
    "\n",
    "fruits_list = [\"apple\", \"banana\", \"cherry\"]\n",
    "print(fruits_list[1])"
   ]
  },
  {
   "cell_type": "code",
   "execution_count": null,
   "metadata": {},
   "outputs": [],
   "source": [
    "# 7.)\n",
    "# Change the value from \"apple\" to \"kiwi\", in the fruits list. [\"apple\", \"banana\", \"cherry\"]\n",
    "fruits_list = [\"apple\", \"banana\", \"cherry\"]\n",
    "print(fruits_list)\n",
    "\n",
    "fruits_list[0] = \"kiwi\"\n",
    "print(fruits_list)\n"
   ]
  },
  {
   "cell_type": "code",
   "execution_count": null,
   "metadata": {},
   "outputs": [],
   "source": [
    "# 8.)\n",
    "# Use the append method to add \"orange\" to the fruits list. [\"apple\", \"banana\", \"cherry\"]\n",
    "\n",
    "fruits_list = [\"apple\", \"banana\", \"cherry\"]\n",
    "fruits_list.append(\"orange\")\n",
    "print(fruits_list)\n"
   ]
  },
  {
   "cell_type": "code",
   "execution_count": null,
   "metadata": {},
   "outputs": [],
   "source": [
    "# 9.)\n",
    "# Use the insert method to add \"lemon\" as the second item in the fruits list. [\"apple\", \"banana\", \"cherry\"]\n",
    "\n",
    "fruits_list = [\"apple\", \"banana\", \"cherry\"]\n",
    "fruits_list.insert(1,\"lemon\")\n",
    "print(fruits_list)"
   ]
  },
  {
   "cell_type": "code",
   "execution_count": null,
   "metadata": {},
   "outputs": [],
   "source": [
    "# 10.)\n",
    "# Use the remove method to remove \"banana\" from the fruits list. [\"apple\", \"banana\", \"cherry\"\n",
    "\n",
    "fruits_list = [\"apple\", \"banana\", \"cherry\"]\n",
    "fruits_list.remove(\"banana\")\n",
    "print(fruits_list)\n",
    "\n",
    "# OR\n",
    "\n",
    "# fruits_list = [\"apple\", \"banana\", \"cherry\"]\n",
    "# fruits_list.pop(1)\n",
    "# print(fruits_list)\n",
    "\n"
   ]
  },
  {
   "cell_type": "code",
   "execution_count": null,
   "metadata": {},
   "outputs": [],
   "source": [
    "# 11.)\n",
    "# Use negative indexing to print the 3rd and 2nd to last items in the list. \n",
    "# [\"apple\", \"banana\", \"cherry\", \"orange\", \"kiwi\", \"melon\", \"mango\"]\n",
    "\n",
    "list = [\"apple\", \"banana\", \"cherry\", \"orange\", \"kiwi\", \"melon\", \"mango\"]\n",
    "print(list[-3],list [-2])\n"
   ]
  },
  {
   "cell_type": "code",
   "execution_count": null,
   "metadata": {},
   "outputs": [],
   "source": [
    "# 12.)\n",
    "# Use a range of indexes to print the third, fourth, and fifth item in the list.\n",
    "#  [\"apple\", \"banana\", \"cherry\", \"orange\", \"kiwi\", \"melon\", \"mango\"]\n",
    "\n",
    "list = [\"apple\", \"banana\", \"cherry\", \"orange\", \"kiwi\", \"melon\", \"mango\"]\n",
    "print(list[2:5])\n"
   ]
  },
  {
   "cell_type": "code",
   "execution_count": null,
   "metadata": {},
   "outputs": [],
   "source": [
    "# 13.)\n",
    "# Use the correct syntax to print the number of items in the list. [\"apple\", \"banana\", \"cherry\", \"orange\", \"kiwi\", \"melon\", \"mango\"]\n",
    "\n",
    "list = [\"apple\", \"banana\", \"cherry\", \"orange\", \"kiwi\", \"melon\", \"mango\"]\n",
    "print(len(list))\n"
   ]
  },
  {
   "cell_type": "code",
   "execution_count": null,
   "metadata": {},
   "outputs": [],
   "source": [
    "# 14.)\n",
    "# Use the correct syntax to sort this list in reverse order [\"apple\", \"banana\", \"cherry\", \"orange\", \"kiwi\", \"melon\", \"mango\"]\n",
    "\n",
    "list = [\"apple\", \"banana\", \"cherry\", \"orange\", \"kiwi\", \"melon\", \"mango\"]\n",
    "\n",
    "\n",
    "list.reverse()\n",
    "print(list)\n",
    "\n",
    "# to print list in reverse alphabetical order\n",
    "\n",
    "# list.sort(reverse=True)\n",
    "# print(list)\n",
    "\n",
    "\n",
    "\n"
   ]
  }
 ],
 "metadata": {
  "kernelspec": {
   "display_name": "Python 3",
   "language": "python",
   "name": "python3"
  },
  "language_info": {
   "codemirror_mode": {
    "name": "ipython",
    "version": 3
   },
   "file_extension": ".py",
   "mimetype": "text/x-python",
   "name": "python",
   "nbconvert_exporter": "python",
   "pygments_lexer": "ipython3",
   "version": "3.12.6"
  }
 },
 "nbformat": 4,
 "nbformat_minor": 2
}
